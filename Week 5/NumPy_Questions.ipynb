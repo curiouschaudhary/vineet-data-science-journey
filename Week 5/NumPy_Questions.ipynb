{
 "cells": [
  {
   "cell_type": "code",
   "execution_count": 2,
   "id": "a8f94b1c-1a62-4f89-99fd-54d5909fa2b8",
   "metadata": {},
   "outputs": [],
   "source": [
    "import numpy as np"
   ]
  },
  {
   "cell_type": "markdown",
   "id": "9fb341ae-1bd5-4f62-8b9c-2d704ee54103",
   "metadata": {},
   "source": [
    "### Q1. Create a NumPy array of 10 random integers between 1 and 100. Find its mean. "
   ]
  },
  {
   "cell_type": "code",
   "execution_count": 12,
   "id": "f69a02d0-0245-471c-ad32-ac19cf5a0d05",
   "metadata": {},
   "outputs": [
    {
     "data": {
      "text/plain": [
       "array([36, 89, 39, 63, 26, 29, 66, 51, 69, 94], dtype=int32)"
      ]
     },
     "execution_count": 12,
     "metadata": {},
     "output_type": "execute_result"
    }
   ],
   "source": [
    "arr = np.random.randint(1, 101, 10)\n",
    "arr"
   ]
  },
  {
   "cell_type": "code",
   "execution_count": 13,
   "id": "70631b6b-15a2-4786-bab8-a48bd4d3bb15",
   "metadata": {},
   "outputs": [
    {
     "data": {
      "text/plain": [
       "np.float64(56.2)"
      ]
     },
     "execution_count": 13,
     "metadata": {},
     "output_type": "execute_result"
    }
   ],
   "source": [
    "arr.mean()"
   ]
  },
  {
   "cell_type": "markdown",
   "id": "73639e88-3834-46c8-9627-784f937007b6",
   "metadata": {},
   "source": [
    "### Q2. Calculate the median of the array: [10, 5, 8, 12, 3, 7]. \n"
   ]
  },
  {
   "cell_type": "code",
   "execution_count": 13,
   "id": "abb5414c-27c2-4cb1-8369-d4dc8bfb3673",
   "metadata": {},
   "outputs": [
    {
     "data": {
      "text/plain": [
       "array([10,  5,  8, 12,  3,  7])"
      ]
     },
     "execution_count": 13,
     "metadata": {},
     "output_type": "execute_result"
    }
   ],
   "source": [
    "arr = np.array([10, 5, 8, 12, 3, 7])\n",
    "arr"
   ]
  },
  {
   "cell_type": "code",
   "execution_count": 18,
   "id": "efa6d2cc-c39a-4d1e-878c-0cbb6eed604a",
   "metadata": {},
   "outputs": [
    {
     "data": {
      "text/plain": [
       "np.float64(7.5)"
      ]
     },
     "execution_count": 18,
     "metadata": {},
     "output_type": "execute_result"
    }
   ],
   "source": [
    "median = np.median(arr)\n",
    "median"
   ]
  },
  {
   "cell_type": "markdown",
   "id": "0009ad71-2b15-4c7f-abc7-72bbf2da5b71",
   "metadata": {},
   "source": [
    "### Q3. Generate an array of 15 random numbers between 1 and 50. Find its standard deviation. \n"
   ]
  },
  {
   "cell_type": "code",
   "execution_count": 16,
   "id": "e14f9fb2-c044-4f96-8658-cdc9b13c72f4",
   "metadata": {},
   "outputs": [
    {
     "data": {
      "text/plain": [
       "array([31,  7,  4, 31, 44, 47, 26, 18,  2, 38, 12,  7,  9, 27, 27],\n",
       "      dtype=int32)"
      ]
     },
     "execution_count": 16,
     "metadata": {},
     "output_type": "execute_result"
    }
   ],
   "source": [
    "arr = np.random.randint(1, 51, 15)   # 15 random integers from 1 to 50\n",
    "arr"
   ]
  },
  {
   "cell_type": "code",
   "execution_count": 17,
   "id": "b690c44f-e63f-4ac6-b340-1b06f992e220",
   "metadata": {},
   "outputs": [
    {
     "data": {
      "text/plain": [
       "15"
      ]
     },
     "execution_count": 17,
     "metadata": {},
     "output_type": "execute_result"
    }
   ],
   "source": [
    "arr.size"
   ]
  },
  {
   "cell_type": "code",
   "execution_count": 18,
   "id": "100eac5d-6887-45f8-8089-09a3cd3e1a52",
   "metadata": {},
   "outputs": [
    {
     "data": {
      "text/plain": [
       "np.float64(14.264174237111192)"
      ]
     },
     "execution_count": 18,
     "metadata": {},
     "output_type": "execute_result"
    }
   ],
   "source": [
    "std = np.std(arr)\n",
    "std"
   ]
  },
  {
   "cell_type": "markdown",
   "id": "6e3c0aef-fc25-4c3a-86b1-49ed3cec3ba0",
   "metadata": {},
   "source": [
    "### Q4. Create a 3x3 array with values from 1 to 9. Find the row-wise mean. \n"
   ]
  },
  {
   "cell_type": "code",
   "execution_count": 41,
   "id": "eda353f1-c16f-49e9-ac28-2bc738ccaa4d",
   "metadata": {},
   "outputs": [
    {
     "data": {
      "text/plain": [
       "array([1, 2, 3, 4, 5, 6, 7, 8, 9])"
      ]
     },
     "execution_count": 41,
     "metadata": {},
     "output_type": "execute_result"
    }
   ],
   "source": [
    "arr = np.arange(1,10)\n",
    "arr"
   ]
  },
  {
   "cell_type": "code",
   "execution_count": 42,
   "id": "e37e2d29-0054-4374-a89a-25f08abc9a03",
   "metadata": {},
   "outputs": [
    {
     "data": {
      "text/plain": [
       "array([[1, 2, 3],\n",
       "       [4, 5, 6],\n",
       "       [7, 8, 9]])"
      ]
     },
     "execution_count": 42,
     "metadata": {},
     "output_type": "execute_result"
    }
   ],
   "source": [
    "arr.resize(3,3)\n",
    "arr"
   ]
  },
  {
   "cell_type": "code",
   "execution_count": 43,
   "id": "64efcee0-03a2-428f-9deb-e4e7d8fd004a",
   "metadata": {},
   "outputs": [
    {
     "data": {
      "text/plain": [
       "array([2., 5., 8.])"
      ]
     },
     "execution_count": 43,
     "metadata": {},
     "output_type": "execute_result"
    }
   ],
   "source": [
    "row_wise_mean = arr.mean(axis=1)\n",
    "row_wise_mean"
   ]
  },
  {
   "cell_type": "markdown",
   "id": "afcb1dd2-f203-4612-b1e4-61a055201eba",
   "metadata": {},
   "source": [
    "### Q5. For the array [4, 6, 8, 10, 12], calculate mean, median, std. \n"
   ]
  },
  {
   "cell_type": "code",
   "execution_count": 46,
   "id": "0e336e22-aed5-4fea-b696-4ae8776097d2",
   "metadata": {},
   "outputs": [],
   "source": [
    "import numpy as np"
   ]
  },
  {
   "cell_type": "code",
   "execution_count": 49,
   "id": "3e17483e-99e9-43c9-a5ac-b2562f6c438b",
   "metadata": {},
   "outputs": [
    {
     "data": {
      "text/plain": [
       "array([ 4,  6,  8, 10, 12])"
      ]
     },
     "execution_count": 49,
     "metadata": {},
     "output_type": "execute_result"
    }
   ],
   "source": [
    "arr = np.array([4, 6, 8, 10, 12])\n",
    "arr"
   ]
  },
  {
   "cell_type": "code",
   "execution_count": 51,
   "id": "33651b31-47b0-4194-9948-d4f0320860f1",
   "metadata": {},
   "outputs": [
    {
     "data": {
      "text/plain": [
       "np.float64(8.0)"
      ]
     },
     "execution_count": 51,
     "metadata": {},
     "output_type": "execute_result"
    }
   ],
   "source": [
    "mean = arr.mean()\n",
    "mean"
   ]
  },
  {
   "cell_type": "code",
   "execution_count": 52,
   "id": "747c59cc-d331-4d70-8c1c-22e08a2f6aa0",
   "metadata": {},
   "outputs": [
    {
     "data": {
      "text/plain": [
       "np.float64(8.0)"
      ]
     },
     "execution_count": 52,
     "metadata": {},
     "output_type": "execute_result"
    }
   ],
   "source": [
    "median = np.median(arr)\n",
    "median"
   ]
  },
  {
   "cell_type": "code",
   "execution_count": 55,
   "id": "debfb1f8-e059-415a-9488-166f605ad357",
   "metadata": {},
   "outputs": [
    {
     "data": {
      "text/plain": [
       "np.float64(2.8284271247461903)"
      ]
     },
     "execution_count": 55,
     "metadata": {},
     "output_type": "execute_result"
    }
   ],
   "source": [
    "std_dev = np.std(arr)\n",
    "std_dev"
   ]
  },
  {
   "cell_type": "markdown",
   "id": "3ae50a0b-6af0-49b7-8e6f-7367d63cbcb2",
   "metadata": {},
   "source": [
    "### Q6. Generate a 5x5 NumPy array of random integers (0 to 100). Find the overall mean. \n"
   ]
  },
  {
   "cell_type": "code",
   "execution_count": 64,
   "id": "62166e43-e9f6-4913-8691-279cabfb107d",
   "metadata": {},
   "outputs": [
    {
     "data": {
      "text/plain": [
       "array([[ 3, 49, 26,  9, 42],\n",
       "       [ 6, 12, 99, 70, 75],\n",
       "       [56, 27, 75, 38, 97],\n",
       "       [33, 18, 29, 33, 86],\n",
       "       [53, 83, 91, 19, 86]], dtype=int32)"
      ]
     },
     "execution_count": 64,
     "metadata": {},
     "output_type": "execute_result"
    }
   ],
   "source": [
    "arr = np.random.randint(0, 101, (5, 5))\n",
    "arr"
   ]
  },
  {
   "cell_type": "code",
   "execution_count": 14,
   "id": "524b3823-66cf-4c8d-a9a8-13879f0baedb",
   "metadata": {},
   "outputs": [
    {
     "data": {
      "text/plain": [
       "np.float64(56.2)"
      ]
     },
     "execution_count": 14,
     "metadata": {},
     "output_type": "execute_result"
    }
   ],
   "source": [
    "mean = np.mean(arr)\n",
    "mean"
   ]
  },
  {
   "cell_type": "markdown",
   "id": "46dbad9f-8ba3-4221-9a33-335427727a28",
   "metadata": {},
   "source": [
    "\n",
    "### Q7. Create an array of 50 random integers and calculate the standard deviation. \n"
   ]
  },
  {
   "cell_type": "code",
   "execution_count": 71,
   "id": "3dd6cf58-1f2e-492a-99a4-905662c32dc7",
   "metadata": {},
   "outputs": [
    {
     "data": {
      "text/plain": [
       "array([80, 76, 75,  3, 11, 24, 23, 68, 17, 36, 89, 14, 54, 60, 70, 43, 71,\n",
       "       30, 87, 41, 96,  4, 63, 73, 97, 30, 89, 77,  8,  1, 79, 72,  8, 28,\n",
       "       49, 37, 93,  2,  2, 82, 60, 59, 32, 45, 21, 98, 64, 21, 80, 88],\n",
       "      dtype=int32)"
      ]
     },
     "execution_count": 71,
     "metadata": {},
     "output_type": "execute_result"
    }
   ],
   "source": [
    "arr = np.random.randint(1, 101, 50)\n",
    "arr"
   ]
  },
  {
   "cell_type": "code",
   "execution_count": 72,
   "id": "b2203e70-57b4-4223-afe7-dcabe6508b2a",
   "metadata": {},
   "outputs": [
    {
     "data": {
      "text/plain": [
       "np.float64(30.605228311515667)"
      ]
     },
     "execution_count": 72,
     "metadata": {},
     "output_type": "execute_result"
    }
   ],
   "source": [
    "std_dev = np.std(arr)\n",
    "std_dev"
   ]
  },
  {
   "cell_type": "markdown",
   "id": "49b8d7d4-5962-40ee-8475-b83b3e17a523",
   "metadata": {},
   "source": [
    "### Q8. Find indices of non-zero elements from [1,2,0,0,4,0] \n"
   ]
  },
  {
   "cell_type": "code",
   "execution_count": 73,
   "id": "80226646-ceea-4300-a8a3-cf4bc6fa221f",
   "metadata": {},
   "outputs": [
    {
     "data": {
      "text/plain": [
       "array([1, 2, 0, 0, 4, 0])"
      ]
     },
     "execution_count": 73,
     "metadata": {},
     "output_type": "execute_result"
    }
   ],
   "source": [
    "arr = np.array([1,2,0,0,4,0])\n",
    "arr"
   ]
  },
  {
   "cell_type": "code",
   "execution_count": 76,
   "id": "20035146-4f7c-4611-84b8-ec1b44787014",
   "metadata": {},
   "outputs": [
    {
     "data": {
      "text/plain": [
       "(array([0, 1, 4]),)"
      ]
     },
     "execution_count": 76,
     "metadata": {},
     "output_type": "execute_result"
    }
   ],
   "source": [
    "np.nonzero(arr)"
   ]
  },
  {
   "cell_type": "markdown",
   "id": "7847af3e-29de-42db-be2a-fd1238cc0d22",
   "metadata": {},
   "source": [
    "### Q9. You have a 2D array, print array element [[7,4]]:\n",
    "        [[2,3,4  \n",
    "          5,7,4  \n",
    "          8,9,0]]  \n"
   ]
  },
  {
   "cell_type": "code",
   "execution_count": 2,
   "id": "518a2641-44e7-4569-bbb9-7ceb375b5978",
   "metadata": {},
   "outputs": [],
   "source": [
    "import numpy as np"
   ]
  },
  {
   "cell_type": "code",
   "execution_count": 3,
   "id": "b5f62a31-8393-4678-9c9f-de8bf5f23416",
   "metadata": {},
   "outputs": [
    {
     "data": {
      "text/plain": [
       "array([[2, 3, 4],\n",
       "       [5, 7, 4],\n",
       "       [8, 9, 0]])"
      ]
     },
     "execution_count": 3,
     "metadata": {},
     "output_type": "execute_result"
    }
   ],
   "source": [
    "arr = np.array([\n",
    "    [2, 3, 4],\n",
    "    [5, 7, 4],\n",
    "    [8, 9, 0]\n",
    "])\n",
    "arr"
   ]
  },
  {
   "cell_type": "code",
   "execution_count": 4,
   "id": "a92b8819-0212-4bfa-9657-d64378dd6c4e",
   "metadata": {},
   "outputs": [
    {
     "data": {
      "text/plain": [
       "np.int64(7)"
      ]
     },
     "execution_count": 4,
     "metadata": {},
     "output_type": "execute_result"
    }
   ],
   "source": [
    "# Access element '7' → row=1, col=1\n",
    "element = arr[1, 1]\n",
    "element"
   ]
  },
  {
   "cell_type": "markdown",
   "id": "0c484a91-ffa8-4457-9a1b-b804c23239d2",
   "metadata": {},
   "source": [
    "### Q10. Create 2 array of 2-Dimension and then perform matrix multiplication on them. \n"
   ]
  },
  {
   "cell_type": "code",
   "execution_count": 6,
   "id": "a001a049-f3b3-4b8e-b79a-0a54575c82fa",
   "metadata": {},
   "outputs": [
    {
     "data": {
      "text/plain": [
       "array([[1, 2],\n",
       "       [3, 4]])"
      ]
     },
     "execution_count": 6,
     "metadata": {},
     "output_type": "execute_result"
    }
   ],
   "source": [
    "a = np.array([[1, 2],[3, 4]])\n",
    "a"
   ]
  },
  {
   "cell_type": "code",
   "execution_count": 7,
   "id": "aa5abe39-7579-42f9-998f-c7a0730db15a",
   "metadata": {},
   "outputs": [
    {
     "data": {
      "text/plain": [
       "array([[5, 6],\n",
       "       [7, 8]])"
      ]
     },
     "execution_count": 7,
     "metadata": {},
     "output_type": "execute_result"
    }
   ],
   "source": [
    "b = np.array([[5,6],[7,8]])\n",
    "b"
   ]
  },
  {
   "cell_type": "code",
   "execution_count": 10,
   "id": "9be58471-9f35-4ea9-ba62-513f80160c1f",
   "metadata": {},
   "outputs": [
    {
     "data": {
      "text/plain": [
       "array([[19, 22],\n",
       "       [43, 50]])"
      ]
     },
     "execution_count": 10,
     "metadata": {},
     "output_type": "execute_result"
    }
   ],
   "source": [
    "c = a@b\n",
    "c"
   ]
  },
  {
   "cell_type": "code",
   "execution_count": 11,
   "id": "b78c9770-4100-4474-98c8-6bf6f085bb4d",
   "metadata": {},
   "outputs": [
    {
     "data": {
      "text/plain": [
       "array([[19, 22],\n",
       "       [43, 50]])"
      ]
     },
     "execution_count": 11,
     "metadata": {},
     "output_type": "execute_result"
    }
   ],
   "source": [
    "# OR\n",
    "c = np.dot(a,b)\n",
    "c"
   ]
  },
  {
   "cell_type": "code",
   "execution_count": null,
   "id": "14717b4e-3d85-4d81-b57f-5639554ec6e9",
   "metadata": {},
   "outputs": [],
   "source": []
  }
 ],
 "metadata": {
  "kernelspec": {
   "display_name": "Python 3 (ipykernel)",
   "language": "python",
   "name": "python3"
  },
  "language_info": {
   "codemirror_mode": {
    "name": "ipython",
    "version": 3
   },
   "file_extension": ".py",
   "mimetype": "text/x-python",
   "name": "python",
   "nbconvert_exporter": "python",
   "pygments_lexer": "ipython3",
   "version": "3.13.2"
  }
 },
 "nbformat": 4,
 "nbformat_minor": 5
}
